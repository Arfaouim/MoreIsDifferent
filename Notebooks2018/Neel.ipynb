{
 "cells": [
  {
   "cell_type": "markdown",
   "metadata": {},
   "source": [
    "# Neel"
   ]
  },
  {
   "cell_type": "markdown",
   "metadata": {},
   "source": [
    "In this notebook we will look at ferromagnetism by simulating the Hamiltonian\n",
    "\n",
    "\\begin{equation}\n",
    "H = -\\frac{1}{2} J \\sum_{\\langle i,j \\rangle} S_{i}S_{j} - \\mu_{B} B \\sum_{i} S_{i},\n",
    "\\end{equation}\n",
    "\n",
    "where $J$ is again the nearest neighbour exchange energy and $B$ is the external field. We will in first instance only take the exchange interaction between nearest neighbours into account and forget about the dipole term, we will choose $J$ to be negative."
   ]
  },
  {
   "cell_type": "code",
   "execution_count": null,
   "metadata": {},
   "outputs": [],
   "source": [
    "import numpy\n",
    "import matplotlib.pyplot as plt\n",
    "\n",
    "## The following package is required to update the plot within the same figure\n",
    "from IPython.display import clear_output"
   ]
  },
  {
   "cell_type": "markdown",
   "metadata": {},
   "source": [
    "To update our plots during the simulation we run in this notebook we define the function *live_plot* in the following cell. In the simulation, the left graph will show the spin everywhere in the lattice, on the top-right graph, the average magnetisation in the system is shown. In the bottom-right graph, you see the so-called staggered order parameter. It is negative when neighbouring spins are anti-aligned. "
   ]
  },
  {
   "cell_type": "code",
   "execution_count": null,
   "metadata": {},
   "outputs": [],
   "source": [
    "def live_plot(data_2D, data_M, data_MS):\n",
    "    \"\"\"\n",
    "      Clear the figure and update the plots with newly created data\n",
    "      \n",
    "        :params:  - data_2D --> 2D numpy array\n",
    "                  - data_1D --> Two 1D numpy arrays containing the x and y axis of the plotted data\n",
    "    \"\"\"\n",
    "    clear_output(wait=True)\n",
    "    \n",
    "    ## Initialize the figure with corresponding subplots\n",
    "    fig = plt.figure(figsize = (22, 10))\n",
    "    ax1 = fig.add_subplot(1, 2, 1)\n",
    "    ax2 = fig.add_subplot(2, 2, 2)\n",
    "    ax3 = fig.add_subplot(2, 2, 4)\n",
    "    \n",
    "    ## Plot data_2D using imshow --> Direct visualization of the spin states in the system\n",
    "    ax1.imshow(data_2D, interpolation = \"none\", vmin = -1., vmax = 1., cmap = \"hot\")\n",
    "\n",
    "    ## Plot data_1D using plot --> Magnetization as a function of time. In this simulation time corresponds to simulation steps\n",
    "    ax2.plot(data_M[:, 0], data_M[:, 1])\n",
    "    \n",
    "    ax2.set_ylim(-1.1, 1.1)\n",
    "    ax2.set_ylabel(\"<S_i>\")\n",
    "    \n",
    "    ax3.plot(data_MS[:, 0], data_MS[:, 1])\n",
    "    \n",
    "    ax3.set_ylim(-1.1, 1.1)\n",
    "    ax3.set_xlabel(\"Monte Carlo Moves\")\n",
    "    ax3.set_ylabel(\"<-S_i*S_j>\")\n",
    "    \n",
    "    plt.show();"
   ]
  },
  {
   "cell_type": "markdown",
   "metadata": {},
   "source": [
    "Onwards to the actual notebook! First we define our system parameters by defining the number of particles in our system *N* and the number of _Steps_ the simulation is executed over.\n",
    "\n",
    "In the Ising notebook we expressed everything in units of $\\textit{J}$. Here, we will keep $\\textit{J}$ explicitely because we want to be able to investigate what happens when $\\textit{J} = 0$. Our paramaters are the neareast neighbour exhange energy $\\textit{J}$, the external magnetic field $\\textit{B}$, and the thermal energy $\\textit{kBT}$."
   ]
  },
  {
   "cell_type": "code",
   "execution_count": null,
   "metadata": {},
   "outputs": [],
   "source": [
    "N = 50\n",
    "Steps = 1000000\n",
    "\n",
    "J = -2.0\n",
    "B = -2.0\n",
    "kBT = 3.0\n",
    "\n",
    "## Calculate the energy change due to one spin flip\n",
    "def deltaE(S,i,j):\n",
    "    Sij=S[i,j]\n",
    "    Enow=-Sij*(J*(S[(i+1)%N,j]+S[(i-1)%N,j]+S[i,(j+1)%N]+S[i,(j-1)%N])+B) # use periodic b.c.'s\n",
    "    return -2*Enow"
   ]
  },
  {
   "cell_type": "markdown",
   "metadata": {},
   "source": [
    "Now we initialize the system by randomly defining the spins. We do this by generating a two by two array with values between 0 and 1. All values below 0.5 correspond to spin down, *i.e.* -1 and all values above 0.5 correspond to spin up, _i.e._ +1."
   ]
  },
  {
   "cell_type": "code",
   "execution_count": null,
   "metadata": {},
   "outputs": [],
   "source": [
    "## Init the spins randomly (Remember: only down and up!)\n",
    "spins = numpy.where(numpy.random.random((N, N)) > 0.5, 1, -1)\n",
    "\n",
    "## Determine the magnitization and staggered order parameter. Store in numpy array with shape: (Steps, 2)\n",
    "M     = numpy.zeros((Steps, 2))\n",
    "MS    = numpy.zeros((Steps, 2))    ## Staggered order parameter\n",
    "M[0]  = 0, numpy.array([numpy.mean(spins)])\n",
    "MS[0] = 0, numpy.array([-numpy.mean(spins.flatten()[::2] * spins.flatten()[1::2])])\n",
    "\n",
    "\n",
    "## Now define what we do for every step of the simulation\n",
    "for idx in range(Steps):\n",
    "    ## Select a random value for i and j\n",
    "    i, j = numpy.random.randint(0, N, 2)\n",
    "    ## For the selected indices i and j determine the change in energy\n",
    "    dE = deltaE(spins, i, j)\n",
    "    \n",
    "    ## If the change in energy is smaller than 0, or a random number is smaller \n",
    "    ## than the corresponding thermal fluctuations, allow the spin change/flip\n",
    "    if (dE < 0.0) or (numpy.random.random() < numpy.exp(-dE / float(kBT))):\n",
    "        spins[i, j] = -spins[i, j]\n",
    "\n",
    "    ## Determine the magnetization and the staggered order parameter of the system and store into the \n",
    "    M[idx]  = idx, numpy.mean(spins)\n",
    "    MS[idx] = idx, numpy.mean(-numpy.mean(spins.flatten()[::2] * spins.flatten()[1::2]))\n",
    "    \n",
    "    ## For every 999th step, update the plots\n",
    "    if idx %(999) == 0:       \n",
    "        live_plot(spins, M[:idx], MS[:idx])"
   ]
  },
  {
   "cell_type": "code",
   "execution_count": null,
   "metadata": {},
   "outputs": [],
   "source": []
  }
 ],
 "metadata": {
  "kernelspec": {
   "display_name": "Python 3",
   "language": "python",
   "name": "python3"
  },
  "language_info": {
   "codemirror_mode": {
    "name": "ipython",
    "version": 3
   },
   "file_extension": ".py",
   "mimetype": "text/x-python",
   "name": "python",
   "nbconvert_exporter": "python",
   "pygments_lexer": "ipython3",
   "version": "3.6.6"
  }
 },
 "nbformat": 4,
 "nbformat_minor": 2
}
