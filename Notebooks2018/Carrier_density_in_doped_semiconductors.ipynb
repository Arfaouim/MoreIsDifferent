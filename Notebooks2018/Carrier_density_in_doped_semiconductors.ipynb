{
 "cells": [
  {
   "cell_type": "markdown",
   "metadata": {},
   "source": [
    "# Carrier density in doped semiconductors\n",
    "\n",
    "In this notebook, we will look at the density of majority and minority carriers as a function of temperature. For ta mostly n-doped semiconductor ( $N_D - N_A = D > 0$ )They are given by:\n",
    "$$\n",
    "n = \\frac{1}{2}(\\sqrt{D^2+ 4 n_i^2}+D),\\\\\n",
    "p = \\frac{1}{2}(\\sqrt{D^2+ 4 n_i^2}-D)\n",
    "$$\n",
    "\n",
    "In general, we should first calculate the chemial potential to obtain from that the intrinsic carrier concentration $n_i$. Assuming $E_g \\gg k_B T$, we can approximate \n",
    "\n",
    "$$\n",
    "n_i = C T^{3/2} e^{-E_g/2 k_B T}\n",
    "$$\n",
    "\n",
    "where C is a constant that depends on the effective mass of electrons and holes, the Boltzmann constant, and the Planck constant. "
   ]
  },
  {
   "cell_type": "markdown",
   "metadata": {},
   "source": [
    "### 1) Look up the expression for C and calculated its value for Silicon"
   ]
  },
  {
   "cell_type": "code",
   "execution_count": null,
   "metadata": {},
   "outputs": [],
   "source": [
    "# Your code starts here\n",
    "# C = ?? # Value of C for Silicon"
   ]
  },
  {
   "cell_type": "markdown",
   "metadata": {},
   "source": [
    "### 2) Plot the density of minority and majority carriers as a function of $1/T$ "
   ]
  },
  {
   "cell_type": "code",
   "execution_count": null,
   "metadata": {},
   "outputs": [],
   "source": [
    "# Write your code here"
   ]
  },
  {
   "cell_type": "markdown",
   "metadata": {},
   "source": [
    "### 3) At what temperature the intrinsic carriers dominate over the dopant concentration?\n",
    "Look up a typical value of dopant concentration for Silicon"
   ]
  },
  {
   "cell_type": "code",
   "execution_count": null,
   "metadata": {},
   "outputs": [],
   "source": [
    "# D = ??\n",
    "# Write your code here"
   ]
  },
  {
   "cell_type": "code",
   "execution_count": null,
   "metadata": {},
   "outputs": [],
   "source": []
  }
 ],
 "metadata": {
  "kernelspec": {
   "display_name": "Python 3",
   "language": "python",
   "name": "python3"
  },
  "language_info": {
   "codemirror_mode": {
    "name": "ipython",
    "version": 3
   },
   "file_extension": ".py",
   "mimetype": "text/x-python",
   "name": "python",
   "nbconvert_exporter": "python",
   "pygments_lexer": "ipython3",
   "version": "3.6.3"
  }
 },
 "nbformat": 4,
 "nbformat_minor": 2
}
