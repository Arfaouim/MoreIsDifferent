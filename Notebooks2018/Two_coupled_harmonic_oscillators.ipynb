{
 "cells": [
  {
   "cell_type": "markdown",
   "metadata": {},
   "source": [
    "# Two coupled harmonic oscillators"
   ]
  },
  {
   "cell_type": "markdown",
   "metadata": {},
   "source": [
    "## Dynamics of a single harmonic oscillator\n",
    "First let us solve the Equation of motion (EOM) for one oscillator.\n",
    "\n",
    "Let us define the parameter $x_1$ as the displacement of the mass from the equilibrium.\n",
    "Then the EOM can be written as: \n",
    "\n",
    "$$F = -k x_1 = m \\ddot x_1$$\n",
    "\n",
    "This equation is solved in general by $ x_1(t) = A \\cos(\\omega t +\\phi_0)$ , where $\\omega = \\sqrt{k/m}$ and $\\phi_0$ is a phase.\n",
    "For simplicity let us set $\\phi_0=0$. This choice is the same as the statement: The mass is at rest at $t=0$. The solution is then simply given by:  \n",
    "\n",
    "$$x_1(t) = A \\cos(\\omega t)$$\n",
    "\n",
    "To see at this trivial level how the dynamics is affected by the parameters k and m let us plot the dynamics."
   ]
  },
  {
   "cell_type": "code",
   "execution_count": null,
   "metadata": {},
   "outputs": [],
   "source": [
    "import math \n",
    "import numpy as np \n",
    "import matplotlib.pyplot as plt\n",
    "\n",
    "def x1 (t,B,k,m):    #define time dependence with parameter time t, amplitude B, k and mass m\n",
    "    A = B*np.cos(math.sqrt(k/m)*t)\n",
    "    return A;"
   ]
  },
  {
   "cell_type": "code",
   "execution_count": null,
   "metadata": {},
   "outputs": [],
   "source": [
    "#set the parameters\n",
    "dt= 0.1\n",
    "t = np.arange(0,40,dt) #set the time parameter in steps dt\n",
    "k=1    #set the parameter k\n",
    "m=1    #set the parameter m\n",
    "A=1    #set the parameter A\n"
   ]
  },
  {
   "cell_type": "code",
   "execution_count": null,
   "metadata": {},
   "outputs": [],
   "source": [
    "#plot the solution\n",
    "plt.figure(figsize=(12,6))\n",
    "plt.plot(t,x1(t,A,k,m))\n",
    "plt.xlabel('Time')\n",
    "plt.ylabel('Amplitude')\n",
    "plt.title('Dynamics of a single harmonic oscillator')\n",
    "plt.grid(True)"
   ]
  },
  {
   "cell_type": "markdown",
   "metadata": {},
   "source": [
    "That was trivial, wasn't it? Now you know for sure that you have all the necessary libraries and understand how to play with the parameters. You can continue with this Jupyter notebook where the exciting Physics kicks in. "
   ]
  },
  {
   "cell_type": "markdown",
   "metadata": {},
   "source": [
    "## Two coupled oscillators\n",
    "\n",
    "![Coupled oscillators](./img/coupled_harmonic_oscillators.png)\n",
    "\n",
    "Let's go to the case of two coupled harmonic oscillators. To simplify the derivations, we assume that $m_1 = m_2 = m$. but the spring constants $k_1$ and $k_2$ are different. The two oscillators are coupled through a spring with a spring constant $k_c$. The EOM for each mass is coupled to the motion of the other one and they should be solved together:\n",
    "\n",
    "\\begin{equation*}\n",
    "m \\ddot x_1 = -(k_1+k_c)x_1 + k_c x_2 \\\\\n",
    "m \\ddot x_2 = -(k_2+k_c)x_2 + k_c x_1\n",
    "\\end{equation*}\n",
    "\n",
    "To find the eigenmodes of these coupled oscillators, we can use the anzats $x_1 = Re (A_1 e^{i\\omega t})$ and $x_2 = Re (A_2 e^{i\\omega t})$. The eigenfrequencies are then the answers to the following determinant being equal to zero **[Try to work this out]:**\n",
    "\n",
    "\\begin{equation*}\n",
    "\\begin{vmatrix}\n",
    "m \\omega^2 - k_1 - k_c & k_c \\\\\n",
    "k_c & m \\omega^2 - k_2 - k_c \n",
    "\\end{vmatrix} = 0\n",
    "\\end{equation*}\n",
    "\n",
    "which are given by\n",
    "\n",
    "$$ \\omega_\\pm^2 = \\frac{1}{2m} \\left( ( k_1 + k_2 + 2 k_c) \\pm \\sqrt{(k_1 - k_2)^2 + 4 k_c^2} \\right)$$\n"
   ]
  },
  {
   "cell_type": "markdown",
   "metadata": {},
   "source": [
    "## Normal-mode splitting\n",
    "\n",
    "It is interesting to look at the two eigenfrequencies as a function of the difference between the spring constants, which determine the *bare* resonance frequencis **[Why is it reasonable to call that a resonance frequency?]**.\n"
   ]
  },
  {
   "cell_type": "code",
   "execution_count": null,
   "metadata": {},
   "outputs": [],
   "source": [
    "#set the parameters,\n",
    "stp= 0.05\n",
    "k2 = np.arange(0,4,stp) #ratio of the two spring constants. we can assume k_1=1 and m=1. \n",
    "kc = 0.2    #determines the coupling strength\n",
    "\n",
    "def norm_mod_slow (k, c):\n",
    "    # k: spring constant ratio\n",
    "    # c: spring constant of the middle spring divided by k1\n",
    "    w = np.sqrt(((1+k+2*c)-np.sqrt((1-k)**2+4*c**2))/2)\n",
    "    return w\n",
    "def norm_mod_fast (k, c):\n",
    "    w = np.sqrt(((1+k+2*c)+np.sqrt((1-k)**2+4*c**2))/2)\n",
    "    return w\n",
    "\n",
    "#plot the solutions\n",
    "plt.figure(figsize=(12,8))\n",
    "kc = 0.02    #determines the coupling strength\n",
    "ax1 = plt.subplot(221)\n",
    "ax1.plot(k2, norm_mod_slow(k2, kc), k2, norm_mod_fast(k2, kc))\n",
    "plt.xlabel('Spring constant ratio')\n",
    "plt.ylabel('Frequencies')\n",
    "plt.title('Normal-mode splitting, weak coupling')\n",
    "plt.grid(True)\n",
    "\n",
    "kc = 0.5    #determines the coupling strength\n",
    "ax2 = plt.subplot(222)\n",
    "ax2.plot(k2, norm_mod_slow(k2, kc), k2, norm_mod_fast(k2, kc))\n",
    "plt.xlabel('Spring constant ratio')\n",
    "plt.ylabel('Frequencies')\n",
    "plt.title('Normal-mode splitting, strong coupling')\n",
    "plt.grid(True)"
   ]
  },
  {
   "cell_type": "markdown",
   "metadata": {},
   "source": [
    "## Play time!\n",
    "Change the strength of coupling between the two resonators $k_c$ and observe what happens to these curves near or away from the avoided crossing. \n",
    "\n",
    "#### How do that two masses move at $k_1/k_2 = 1$ and why is the lower frequency independent of $k_c$?"
   ]
  },
  {
   "cell_type": "markdown",
   "metadata": {},
   "source": [
    "## Dynamics close to and far from the avoided crossing\n",
    "\n",
    "For the eigenmodes we have the following relation between the oscillation amplitudes **(WHY?)** \n",
    "\n",
    "\\begin{equation*}\n",
    "\\frac{A_1}{A_2} = -\\frac{\\frac{1}{2}(k_2-k_1)\\pm \\frac{1}{2}\\sqrt{(k_1 - k_2)^2 + 4 k_c^2}}{k_c}\n",
    "\\end{equation*}\n",
    "\n",
    "#### Write a short piece of code to visualize these ratios as a function of $k2/k1$"
   ]
  },
  {
   "cell_type": "code",
   "execution_count": null,
   "metadata": {},
   "outputs": [],
   "source": [
    "# your code"
   ]
  },
  {
   "cell_type": "markdown",
   "metadata": {},
   "source": [
    "#### What is the ratio $A_1/A_2$ for $k_1=k_2$?\n",
    "\n",
    "Consider the initial displacement of $x_1(t=0) = 1$ and $x_2(t=0) = 0$. Assuming the symmetric case of $k_1=k_2$, convince yourself that the dynamics of this system is given by\n",
    "\n",
    "\\begin{equation*}\n",
    "x_1 = \\frac{1}{2} \\left( \\cos(\\omega_+ t) + \\cos(\\omega_- t) \\right) \\\\\n",
    "x_2 = \\frac{1}{2} \\left( \\cos(\\omega_+ t) - \\cos(\\omega_- t) \\right) \n",
    "\\end{equation*}\n",
    "\n",
    "#### Write a short piece of code to visualize these trajectories"
   ]
  },
  {
   "cell_type": "code",
   "execution_count": null,
   "metadata": {},
   "outputs": [],
   "source": [
    "# your code"
   ]
  },
  {
   "cell_type": "markdown",
   "metadata": {},
   "source": [
    "## Summary\n",
    "\n",
    "We have looked at the normal-mode frequencies of two coupled harmonic oscillators and their trajectories. We have seen that the degree of coupling between two resonators results in splitting between the two modes of the coupled system."
   ]
  }
 ],
 "metadata": {
  "kernelspec": {
   "display_name": "Python 3",
   "language": "python",
   "name": "python3"
  },
  "language_info": {
   "codemirror_mode": {
    "name": "ipython",
    "version": 3
   },
   "file_extension": ".py",
   "mimetype": "text/x-python",
   "name": "python",
   "nbconvert_exporter": "python",
   "pygments_lexer": "ipython3",
   "version": "3.6.3"
  }
 },
 "nbformat": 4,
 "nbformat_minor": 2
}
