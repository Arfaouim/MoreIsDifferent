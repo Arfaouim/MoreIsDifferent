{
 "cells": [
  {
   "cell_type": "markdown",
   "metadata": {},
   "source": [
    "# Two coupled harmonic oscillators"
   ]
  },
  {
   "cell_type": "markdown",
   "metadata": {},
   "source": [
    "## Dynamics of a single harmonic oscillator\n",
    "First let us solve the Equation of motion(EOM) for one oscillator.\n",
    "\n",
    "Let us define the parameter $x_1$ as the displacement of the mass from the equilibrium.\n",
    "Then the EOM can be written as: \n",
    "\n",
    "$$F = -k x_1 = m \\ddot x_1$$\n",
    "\n",
    "This equation is solved in general by $ x_1(t) = A \\cos(\\omega t +\\phi_0)$ , where $\\omega = \\sqrt{k/m}$ and $\\phi_0$ is a phase.\n",
    "For simplicity let us set $\\phi_0=0$. This choice is the same as the statement: The mass is at rest at $t=0$. The solution is then simply given by:  \n",
    "\n",
    "$$x_1(t) = A \\cos(\\omega t)$$\n",
    "\n",
    "To see at this trivial level how the dynamics is affected by the parameters k and m let us plot the dynamics."
   ]
  },
  {
   "cell_type": "code",
   "execution_count": null,
   "metadata": {},
   "outputs": [],
   "source": [
    "import math \n",
    "import numpy as np \n",
    "import matplotlib.pyplot as plt\n",
    "\n",
    "def x1 (t,B,k,m):    #define time dependence with parameter time t, amplitude B, k and mass m\n",
    "    A = B*np.cos(math.sqrt(k/m)*t)\n",
    "    return A;"
   ]
  },
  {
   "cell_type": "code",
   "execution_count": null,
   "metadata": {},
   "outputs": [],
   "source": [
    "#set the parameters\n",
    "dt= 0.1\n",
    "t = np.arange(0,40,dt) #set the time parameter in steps dt\n",
    "k=1    #set the parameter k\n",
    "m=1    #set the parameter m\n",
    "A=1    #set the parameter A\n"
   ]
  },
  {
   "cell_type": "code",
   "execution_count": null,
   "metadata": {},
   "outputs": [],
   "source": [
    "#plot the solution\n",
    "plt.figure(figsize=(12,6))\n",
    "plt.plot(t,x1(t,A,k,m))\n",
    "plt.xlabel('Time')\n",
    "plt.ylabel('Amplitude')\n",
    "plt.title('Dynamics of a single harmonic oscillator')\n",
    "plt.grid(True)"
   ]
  },
  {
   "cell_type": "markdown",
   "metadata": {},
   "source": [
    "## Two coupled oscillators"
   ]
  },
  {
   "cell_type": "markdown",
   "metadata": {},
   "source": [
    "Let's go to the case of two coupled harmonic oscillators. To simplify the derivations, we assume that $m_1 = m_2 = m$. but the spring constants $k_1$ and $k_2$ are different. The two oscillators are coupled through a spring with a spring constant $k_c$. The EOM for each mass is coupled to the motion of the other one and they should be solved together:\n",
    "\n",
    "$ m \\ddot x_1 = -(k_1+k_c)x_1 + k_c x_2$ \n",
    "\n",
    "$ m \\ddot x_2 = -(k_2+k_c)x_2 + k_c x_1$\n",
    "\n",
    "To find the eigenmodes of these coupled oscillators, we can use the anzats $x_1 = Re (A_1 e^{i\\omega t})$ and $x_2 = Re (A_2 e^{i\\omega t})$. The eigenfrequencies are then the answers to the following determinant being equal to zero **[Try to work this out]:**\n",
    "\n",
    "\\begin{equation*}\n",
    "\\begin{vmatrix}\n",
    "m \\omega^2 - k_1 - k_c & k_c \\\\\n",
    "k_c & m \\omega^2 - k_2 - k_c \\\\\n",
    "\\end{vmatrix} = 0\n",
    "\\end{equation*}\n",
    "\n",
    "which are given by\n",
    "\n",
    "$$ \\omega^2 = \\frac{1}{2m} \\left( ( k_1 + k_2 + 2 k_c) \\pm \\sqrt{(k_1 - k_2)^2 + 4 k_c^2} \\right)$$\n"
   ]
  },
  {
   "cell_type": "markdown",
   "metadata": {},
   "source": [
    "## Normal mode splitting\n",
    "\n",
    "It is interesting to look at the two eigenfrequencies as a function of one of the spring constants, which determines the *bare* resonance frequency **[Why is it reasonable to call that a resonance frequency?]**.\n",
    "\n",
    "\n",
    "*[Sanli: plot $\\omega_+$, $\\omega_-$ as a function of $k_1$, allow playing with $k_c$*]"
   ]
  },
  {
   "cell_type": "code",
   "execution_count": null,
   "metadata": {},
   "outputs": [],
   "source": [
    "\n",
    "def norm_mod_slow (t,B,k,m,kappa=0,s_phi=0):\n",
    "    A = B*np.sin(math.sqrt((k+2*kappa)/m)*t+s_phi)\n",
    "    return A;\n",
    "def norm_mod_fast (t,C,k,m,kappa,f_phi=0):\n",
    "    A = np.sin(math.sqrt((k+2*kappa)/m)*t+f_phi)\n",
    "    return A;"
   ]
  },
  {
   "cell_type": "markdown",
   "metadata": {},
   "source": [
    "*[Sanli: Add necessary code below this cell according to these headlines]*\n",
    "\n",
    "## Dynamics for an eigenmode far and close to strong coupling\n",
    "\n",
    "## Dynamics at frequencies other than the eigen-frequencies"
   ]
  },
  {
   "cell_type": "code",
   "execution_count": null,
   "metadata": {},
   "outputs": [],
   "source": [
    "# set the parameters\n",
    "dt=0.1\n",
    "t = np.arange(0,100,dt)\n",
    "k=4\n",
    "kappa=0.4\n",
    "m=2\n",
    "As=0.5\n",
    "Af=0.5\n",
    "f_phi=0\n",
    "s_phi=0\n"
   ]
  },
  {
   "cell_type": "code",
   "execution_count": null,
   "metadata": {},
   "outputs": [],
   "source": [
    "#do the plotting\n",
    "fig, axs = plt.subplots(2, 2,figsize=(13,13))\n",
    "axs[0,1].plot(t, norm_mod_slow(t,As,k,m))\n",
    "axs[0,1].set_title(\"Slow signal mode\")\n",
    "axs[0,1].set_xlabel(\"Time\")\n",
    "axs[0,1].set_ylabel(\"Amplitude\")\n",
    "\n",
    "axs[1,1].plot(t, norm_mod_fast(t,Af,k,m,kappa))\n",
    "axs[1,1].set_title(\"Fast normal mode\")\n",
    "axs[1,1].set_xlabel(\"Time\")\n",
    "axs[1,1].set_ylabel(\"Amplitude\")\n",
    "\n",
    "axs[0,0].plot(t, norm_mod_slow(t,As,k,m) + norm_mod_fast(t,Af,k,m,kappa))\n",
    "axs[0,0].set_title(\"x1\")\n",
    "axs[0,0].set_xlabel(\"Time\")\n",
    "axs[0,0].set_ylabel(\"Amplitude\")\n",
    "\n",
    "axs[1,0].plot(t, norm_mod_slow(t,As,k,m) - norm_mod_fast(t,Af,k,m,kappa))\n",
    "axs[1,0].set_title(\"x2\")\n",
    "axs[1,0].set_xlabel(\"Time\")\n",
    "axs[1,0].set_ylabel(\"Amplitude\")\n",
    "fig.tight_layout()\n",
    "axs[0,0].grid(True)\n",
    "axs[1,0].grid(True)\n",
    "axs[0,1].grid(True)\n",
    "axs[1,1].grid(True)\n",
    "plt.show()"
   ]
  }
 ],
 "metadata": {
  "kernelspec": {
   "display_name": "Python 3",
   "language": "python",
   "name": "python3"
  },
  "language_info": {
   "codemirror_mode": {
    "name": "ipython",
    "version": 3
   },
   "file_extension": ".py",
   "mimetype": "text/x-python",
   "name": "python",
   "nbconvert_exporter": "python",
   "pygments_lexer": "ipython3",
   "version": "3.6.3"
  }
 },
 "nbformat": 4,
 "nbformat_minor": 2
}
