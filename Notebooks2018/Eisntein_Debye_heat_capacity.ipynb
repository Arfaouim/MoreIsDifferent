{
 "cells": [
  {
   "cell_type": "markdown",
   "metadata": {},
   "source": [
    "# Comparing Einstein and Debye models for heat capacity\n",
    "\n",
    "This notebook is a faithful copy of [Anton Akhmerov's blogpost](https://quantumtinkerer.tudelft.nl/blog/footsteps-of-einstein/). \n",
    "\n",
    "A great source of experimental data showing the problem is Einstein's [Original work](https://onlinelibrary.wiley.com/doi/abs/10.1002/andp.200590013), and Steve's book reproduces the plot from Einstein. (See also the [English translation](https://einsteinpapers.press.princeton.edu/vol2-trans/228)) Unfortunately that plot belongs to the current publisher of Annalen der Physik and cannot be republished under a free license. So in order to provide this data in the lecture notes and to make it available to whoever wants, I decided to take the original data Einstein has and repeat the exercise. Because we are living in an enlightened age, I also wanted to see if the more advanced Debye model would be any better for Einstein's data.\n",
    "\n",
    "Here's the source table from Einstein's work. (By the way, find a typo ;)\n",
    "\n",
    "Let's analyse it!"
   ]
  },
  {
   "cell_type": "code",
   "execution_count": null,
   "metadata": {},
   "outputs": [],
   "source": [
    "from matplotlib import pyplot\n",
    "import numpy as np\n",
    "from scipy.optimize import curve_fit\n",
    "from scipy.integrate import quad\n",
    "\n",
    "pyplot.rcParams['figure.figsize'] = (10, 7)\n",
    "pyplot.rcParams['font.size'] = 20"
   ]
  },
  {
   "cell_type": "markdown",
   "metadata": {},
   "source": [
    "Take the data from Einstein's table.\n",
    "![table from Einstein's paper](./img/einstein_data.png)"
   ]
  },
  {
   "cell_type": "code",
   "execution_count": null,
   "metadata": {},
   "outputs": [],
   "source": [
    "T =[222.4, 262.4, 283.7, 306.4, 331.3, 358.5, 413.0, 479.2, 520.0, 879.7, 1079.7, 1258.0]\n",
    "\n",
    "c = [0.762, 1.146, 1.354, 1.582, 1.838, 2.118, 2.661, 3.28, 3.631, 5.29, 5.387, 5.507]"
   ]
  },
  {
   "cell_type": "markdown",
   "metadata": {},
   "source": [
    "## Deviation from the Dulong–Petit law\n",
    "\n",
    "The simplest theory of heat capacity of solids is the Dulong–Petit law saying that each atom has 6 degrees of freedom (3x kinetic and 3x potential), and therefore heat capacity per atom is  C=6×1/2=3\n",
    "  (in units of Boltzmann constant). Afterwards experiments observed that at low temperatures the [Dulong–Petit law](https://en.wikipedia.org/wiki/Dulong–Petit_law) breaks down and heat capacity drops.\n",
    "\n",
    "Einstein was measuring heat capacities in gram-calories; we start by translating it into natural units and plotting the original data.\n",
    "\n",
    "Just like Einstein in his time we see something very different from a temperature-independent heat capacity."
   ]
  },
  {
   "cell_type": "code",
   "execution_count": null,
   "metadata": {},
   "outputs": [],
   "source": [
    "c=np.multiply(c,3 / 5.96)\n",
    "\n",
    "def plot_data():\n",
    "    pyplot.scatter(T, c)\n",
    "    pyplot.xlim(xmin=0)\n",
    "    pyplot.ylim(0, 3)\n",
    "    pyplot.xlabel('$T [K]$')\n",
    "    pyplot.ylabel('$C/k_B$')\n",
    "\n",
    "plot_data()"
   ]
  },
  {
   "cell_type": "markdown",
   "metadata": {},
   "source": [
    "## Einstein solid (fitting the data)\n",
    "\n",
    "Einstein (Steve explains that Einstein was a pretty smart guy in his book) came up with an idea to model each atom as a quantum harmonic oscillator ([Einstein solid](https://en.wikipedia.org/wiki/Einstein_solid)), which explained the heat capacity reduction using the quantum mechanics (which didn't exist yet).\n",
    "\n",
    "Einstein's model predicted the following law:\n",
    "\n",
    "$C_V = (T_E/T)^2 \\frac{e^{T_E/T}}{(e^{T_E/T}-1)^2}$\n",
    "\n",
    "with the temperature scale  $T_E=ℏω/kB$\n",
    "  a model parameter.\n",
    "\n",
    "Having the data and the model, we just perform the fit and get the temperature scale of the einstein solid as a result."
   ]
  },
  {
   "cell_type": "code",
   "execution_count": null,
   "metadata": {},
   "outputs": [],
   "source": [
    "def c_einstein(T, T_E):\n",
    "    x = T_E / T\n",
    "    return 3 * x**2 * np.exp(x) / (np.exp(x) - 1)**2\n",
    "\n",
    "fit = curve_fit(c_einstein, T, c, 1000)\n",
    "T_E = fit[0][0]\n",
    "delta_T_E = np.sqrt(fit[1][0, 0])\n",
    "print(f\"T_E = {T_E:.5} ± {delta_T_E:.3} K\")\n",
    "\n",
    "plot_data()\n",
    "temps = np.linspace(10, T[-1], 100)\n",
    "pyplot.plot(temps, c_einstein(temps, T_E));"
   ]
  },
  {
   "cell_type": "markdown",
   "metadata": {},
   "source": [
    "## Comment on Einstein's fitting skills\n",
    "\n",
    "![Eintein's fit](./img/einstein_figure.png)\n",
    "\n",
    "Curiously, Einstein's original curve looks visibly different.\n",
    "\n",
    "The resolution to the mystery is rather simple: Einstein didn't make an actual fit, he just matched a single point!\n",
    "\n",
    "Quoting from his work:\n",
    "\n",
    "\"For T = 331.3 we have c = 1.838; according to the theory described, from this it follows that A = 11.0μ.\"\n",
    "\n",
    "And indeed, it's easy to find the very point Einstein used to perform the \"fit\", and where the curve intersects with the data. Those were simple times :)\n",
    "\n",
    "#### Suggestion: try plotting the same data with a semilogarithmic coordinates "
   ]
  },
  {
   "cell_type": "markdown",
   "metadata": {},
   "source": [
    "## Debye model "
   ]
  },
  {
   "cell_type": "markdown",
   "metadata": {},
   "source": [
    "Einstein's model was still not good enough and Debye improved it by considering heat capacity of sound waves with a linear dispersion.\n",
    "\n",
    "As one last fun exercise we will check if the more advanced Debye model explains the data better.\n",
    "\n",
    "The Debye heat capacity is"
   ]
  },
  {
   "cell_type": "markdown",
   "metadata": {},
   "source": [
    "$C_V =9(T_D/T)^3 \\int_0^{T_D/T} \\frac{x^4 e^x}{(e^x-1)^2}dx$"
   ]
  },
  {
   "cell_type": "code",
   "execution_count": null,
   "metadata": {},
   "outputs": [],
   "source": [
    "def integrand(y):\n",
    "    return y**4 * np.exp(y) / (np.exp(y) - 1)**2\n",
    "\n",
    "@np.vectorize\n",
    "def c_debye(T, T_D):\n",
    "    x = T / T_D\n",
    "    return 9 * x**3 * quad(integrand, 0, 1/x)[0]\n",
    "\n",
    "fit = curve_fit(c_debye, T, c, 1000)\n",
    "T_D = fit[0][0]\n",
    "delta_T_D = np.sqrt(fit[1][0, 0])\n",
    "print(f\"T_D = {T_D:.5} ± {delta_T_D:.3} K\")\n",
    "\n",
    "plot_data()\n",
    "pyplot.plot(temps, c_einstein(temps, T_E), label='Einstein')\n",
    "pyplot.plot(temps, c_debye(temps, T_D), label='Debye')\n",
    "pyplot.legend();"
   ]
  },
  {
   "cell_type": "markdown",
   "metadata": {},
   "source": [
    "So with the data Einstein used one couldn't really tell the difference."
   ]
  },
  {
   "cell_type": "markdown",
   "metadata": {},
   "source": [
    "## Summary"
   ]
  },
  {
   "cell_type": "markdown",
   "metadata": {},
   "source": [
    "We took a table from Einstein's paper, processed it, plotted, and improved on Einstein's work by making an actual least squares fit."
   ]
  }
 ],
 "metadata": {
  "kernelspec": {
   "display_name": "Python 3",
   "language": "python",
   "name": "python3"
  },
  "language_info": {
   "codemirror_mode": {
    "name": "ipython",
    "version": 3
   },
   "file_extension": ".py",
   "mimetype": "text/x-python",
   "name": "python",
   "nbconvert_exporter": "python",
   "pygments_lexer": "ipython3",
   "version": "3.6.3"
  }
 },
 "nbformat": 4,
 "nbformat_minor": 2
}
