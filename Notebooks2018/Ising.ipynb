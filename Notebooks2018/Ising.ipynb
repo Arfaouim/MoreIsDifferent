{
 "cells": [
  {
   "cell_type": "markdown",
   "metadata": {},
   "source": [
    "# The Ising model"
   ]
  },
  {
   "cell_type": "code",
   "execution_count": 1,
   "metadata": {},
   "outputs": [],
   "source": [
    "import numpy\n",
    "import matplotlib.pyplot as plt\n",
    "\n",
    "## The following package is required to update the plot within the same figure\n",
    "from IPython.display import clear_output"
   ]
  },
  {
   "cell_type": "markdown",
   "metadata": {},
   "source": [
    "To update our plots during the simulation we run in this notebook we define the function *live_plot* in the following cell. "
   ]
  },
  {
   "cell_type": "code",
   "execution_count": 2,
   "metadata": {},
   "outputs": [],
   "source": [
    "def live_plot(data_2D, data_1D):\n",
    "    \"\"\"\n",
    "      Clear the figure and update the plots with newly created data\n",
    "      \n",
    "        :params:  - data_2D --> 2D numpy array\n",
    "                  - data_1D --> Two 1D numpy arrays containing the x and y axis of the plotted data\n",
    "    \"\"\"\n",
    "    clear_output(wait=True)\n",
    "    \n",
    "    ## Initialize the figure with corresponding subplots\n",
    "    fig = plt.figure(figsize = (22, 10))\n",
    "    ax1 = fig.add_subplot(1, 2, 1)\n",
    "    ax2 = fig.add_subplot(1, 2, 2)\n",
    "    \n",
    "    ## Plot data_2D using imshow --> Direct visualization of the spin states in the system\n",
    "    ax1.imshow(data_2D, interpolation = \"none\", vmin = -1., vmax = 1., cmap = \"hot\")\n",
    "\n",
    "    ## Plot data_1D using plot --> Magnetization as a function of time. In this simulation time corresponds to simulation steps\n",
    "    ax2.plot(data_1D[:, 0], data_1D[:, 1])\n",
    "    ax2.set_xlim(0, Steps)\n",
    "    ax2.set_ylim(-1.1, 1.1)\n",
    "    \n",
    "    ax2.set_xlabel(\"Simulation step\", fontsize = 20)\n",
    "    ax2.set_ylabel(\"<M>\", fontsize = 20)\n",
    "    \n",
    "    plt.show();"
   ]
  },
  {
   "cell_type": "markdown",
   "metadata": {},
   "source": [
    "Onwards to the actual notebook! First we define our system parameters by defining the number of particles in our system *N* and the number of _Steps_ the simulation is executed over.\n",
    "\n",
    "The thermal energy *kBT* and the external magnetic field _B_ are expressed in terms of the nearest neighbour exchange energy *J*."
   ]
  },
  {
   "cell_type": "code",
   "execution_count": 7,
   "metadata": {},
   "outputs": [],
   "source": [
    "N = 50\n",
    "Steps = 100000\n",
    "\n",
    "B = -1.0          # [J]\n",
    "kBT = 2.3        # [J]\n",
    "\n",
    "## Calculate the energy change due to one spin flip\n",
    "def deltaE(S, i, j):\n",
    "    Sij  = S[i, j]\n",
    "    Enow = -Sij * (S[(i+1)%N, j] + S[(i-1)%N, j] + S[i, (j+1)%N] + S[i, (j-1)%N] + float(B)) ## Use periodic boundary conditions\n",
    "    return -2 * Enow"
   ]
  },
  {
   "cell_type": "markdown",
   "metadata": {},
   "source": [
    "Now we initialize the system by randomly defining the spins. We do this by generating a two by two array with values between 0 and 1. All values below 0.5 correspond to spin down, *i.e.* -1 and all values above 0.5 correspond to spin up, _i.e._ +1."
   ]
  },
  {
   "cell_type": "code",
   "execution_count": 8,
   "metadata": {},
   "outputs": [
    {
     "data": {
      "image/png": "[encoded data removed]",
      "text/plain": [
       "<matplotlib.figure.Figure at 0x7f45bff99a20>"
      ]
     },
     "metadata": {
      "needs_background": "light"
     },
     "output_type": "display_data"
    }
   ],
   "source": [
    "## Init the spins randomly (Remember: only down and up!)\n",
    "spins = numpy.where(numpy.random.random((N, N)) > 0.5, 1, -1)\n",
    "\n",
    "## Determine the magnitization. Store in numpy array with shape: (Steps, 2)\n",
    "M = numpy.zeros((Steps, 2))\n",
    "M[0] = 0, numpy.array([numpy.mean(spins)])\n",
    "\n",
    "\n",
    "## Now define what we do for every step of the simulation\n",
    "for idx in range(Steps):\n",
    "    ## Select a random value for i and j\n",
    "    i, j = numpy.random.randint(0, N, 2)\n",
    "    ## For the selected indices i and j determine the change in energy\n",
    "    dE = deltaE(spins, i, j)\n",
    "    \n",
    "    ## If the change in energy is smaller than 0, or a random number is smaller \n",
    "    ## than the corresponding thermal fluctuations, allow the spin change/flip\n",
    "    if (dE < 0.0) or (numpy.random.random() < numpy.exp(-dE / float(kBT))):\n",
    "        spins[i, j] = -spins[i, j]\n",
    "\n",
    "    ## Determine the magnetization of the system and store into the \n",
    "    M[idx] = idx, numpy.mean(spins)\n",
    "    \n",
    "    ## For every 999th step, update the plots\n",
    "    if idx %(999) == 0:       \n",
    "        live_plot(spins, M[:idx])\n"
   ]
  },
  {
   "cell_type": "code",
   "execution_count": null,
   "metadata": {},
   "outputs": [],
   "source": []
  }
 ],
 "metadata": {
  "kernelspec": {
   "display_name": "Python 3",
   "language": "python",
   "name": "python3"
  },
  "language_info": {
   "codemirror_mode": {
    "name": "ipython",
    "version": 3
   },
   "file_extension": ".py",
   "mimetype": "text/x-python",
   "name": "python",
   "nbconvert_exporter": "python",
   "pygments_lexer": "ipython3",
   "version": "3.6.6"
  }
 },
 "nbformat": 4,
 "nbformat_minor": 2
}
