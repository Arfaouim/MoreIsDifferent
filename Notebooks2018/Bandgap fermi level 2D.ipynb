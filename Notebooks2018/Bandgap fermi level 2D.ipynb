{
 "cells": [
  {
   "cell_type": "markdown",
   "metadata": {},
   "source": [
    "Author\n",
    "Mette Dybdahl Mortensen"
   ]
  },
  {
   "cell_type": "code",
   "execution_count": 1,
   "metadata": {},
   "outputs": [
    {
     "name": "stderr",
     "output_type": "stream",
     "text": [
      "/anaconda3/lib/python3.6/site-packages/h5py/__init__.py:36: FutureWarning: Conversion of the second argument of issubdtype from `float` to `np.floating` is deprecated. In future, it will be treated as `np.float64 == np.dtype(float).type`.\n",
      "  from ._conv import register_converters as _register_converters\n"
     ]
    }
   ],
   "source": [
    "import numpy as np\n",
    "from numpy import pi\n",
    "from pyqtgraph.Qt import QtCore, QtGui\n",
    "import pyqtgraph.opengl as gl"
   ]
  },
  {
   "cell_type": "markdown",
   "metadata": {},
   "source": [
    "About the project\n",
    "\n",
    "This project is a demonstration of how the band gap arises in the nearly free electron model. In the program I have used a square lattice and introduced a periodic potential. The size of the band gap can be controlled by changing the strength of the potential. The potential can also be turned off completely and we are left with the normal dispersion relation E = hbar/(2m)*(kx^2+ky^2).\n",
    "In the program I have chosen to set hbar=1 and m=1.\n",
    "It is also possible to plot the Fermi level. Depending on where this Fermi level is placed the material will either be a metal, a semi-conductor or an insulator. If one of the bands are completely full the material will either be a semi-conductor or an insulator depending on the size of the gap. If one of the bands are not completely full the electrons will be able to conduct and we have a metal.\n",
    "If the atoms on the lattice each have one valence electron the lower band will be half full. For a semi-conductor the Fermi level will lie (approximately) in the middle of the band gap.\n",
    "It is also possible to arrange the potential and Fermi level such that the Fermi level cuts two bands. This will result in a semi-metal.\n",
    "\n",
    "\n",
    "How to control the program\n",
    "\n",
    "* The strength of the potential can be  easiest regulated by changing the value of V0 (e.g. V0=3.0).\n",
    "* The height of the Fermi level can be regulated by changing the value of Ef (e.g. Ef=5.0)\n",
    "* More bands can be added to the plot by changing the xrange in line 71 (xrange(0,2) gives the two lowest bands xrange(0,3) the three lowest and so on)\n"
   ]
  },
  {
   "cell_type": "code",
   "execution_count": 2,
   "metadata": {},
   "outputs": [],
   "source": [
    "\n",
    "kpoints=100\n",
    "\n",
    "a = 1.0 #lattice constant\n",
    "G = 2*pi/a\n",
    "n = np.arange(-1,2)\n",
    "nsize = np.size(n)\n",
    "nsize2 = nsize**2\n",
    "V0 = 0.0 #strength of the perioic potential\n",
    "\n",
    "kxs = np.linspace(-pi/a, pi/a, kpoints)\n",
    "kys = np.linspace(-pi/a, pi/a, kpoints)\n",
    "\n",
    "coeffs = np.zeros(nsize2) #Fourier coefficients of the potential \n",
    "coeffs[1::2]=0.5 * V0\n",
    "coeffs[0] = 0.5 * V0\n",
    "\n",
    "#Create the Hamiltonian\n",
    "H = np.zeros((nsize2,nsize2))\n",
    "\n",
    "for i in range(1,nsize2):\n",
    "    offdiag = coeffs[i] * np.ones(nsize2 - i)\n",
    "    H = H + (np.diag(offdiag,k=i) + np.diag(offdiag,k=-i))\n",
    "    \n",
    "    \n",
    "def Energy(q,p):\n",
    "    for i in range(0,nsize):\n",
    "        for j in range(0,nsize):\n",
    "            H[nsize*i+j,nsize*i+j] = 0.5*((q + n[i]*G)**2 + (p + n[j]*G)**2) + coeffs[0]\n",
    "    return np.real(np.sort((np.linalg.eigvals(H)))) #Find eigenvalues of the Hamiltonian\n",
    "\n",
    "\n",
    "#Arrange the values in energy bands\n",
    "bands = np.array([Energy(-pi/a,-pi/a)])\n",
    "\n",
    "for kx in kxs:\n",
    "    for ky in kys:\n",
    "        bands = np.append(bands, np.array([Energy(kx,ky)]), axis=0)\n",
    "        \n",
    "bands = np.delete(bands,0,0)\n",
    "\n",
    "\n",
    "#Create a GL View widget to display data\n",
    "app = QtGui.QApplication([])\n",
    "plot = gl.GLViewWidget()\n",
    "plot.show()\n",
    "plot.setWindowTitle('Band gap + Fermi level')\n",
    "plot.setCameraPosition(distance=50)\n",
    "\n",
    "#Add a grid\n",
    "g = gl.GLGridItem()\n",
    "g.setDepthValue(10)\n",
    "plot.addItem(g)\n",
    "\n",
    "#Plot the bands\n",
    "#Change the values in xrange to add more bands to the plot\n",
    "for n in range(0,2):\n",
    "    z = np.reshape(bands[:,n],(100,100))\n",
    "    bandn = gl.GLSurfacePlotItem(x=kxs, y=kys, z=z, shader='normalColor')\n",
    "    bandn.scale(3,3,1)\n",
    "    plot.addItem(bandn)\n",
    "\n",
    "#Add the Fermi level to the plot\n",
    "Ef = 5.0 * np.ones((100,100))\n",
    "fermi = gl.GLSurfacePlotItem(x=kxs, y=kys, z=Ef, shader='shaded', \n",
    "                             color=(0.0,0.25,0.5,0.0))\n",
    "fermi.scale(3,3,1)\n",
    "plot.addItem(fermi)\n",
    "\n",
    "\n",
    "#Start Qt event loop unless running in interactive mode\n",
    "if __name__ == '__main__':\n",
    "    import sys\n",
    "    if (sys.flags.interactive != 1) or not hasattr(QtCore, 'PYQT_VERSION'):\n",
    "        QtGui.QApplication.instance().exec_()"
   ]
  },
  {
   "cell_type": "code",
   "execution_count": null,
   "metadata": {},
   "outputs": [],
   "source": []
  }
 ],
 "metadata": {
  "kernelspec": {
   "display_name": "Python 3",
   "language": "python",
   "name": "python3"
  },
  "language_info": {
   "codemirror_mode": {
    "name": "ipython",
    "version": 3
   },
   "file_extension": ".py",
   "mimetype": "text/x-python",
   "name": "python",
   "nbconvert_exporter": "python",
   "pygments_lexer": "ipython3",
   "version": "3.6.5"
  }
 },
 "nbformat": 4,
 "nbformat_minor": 2
}
