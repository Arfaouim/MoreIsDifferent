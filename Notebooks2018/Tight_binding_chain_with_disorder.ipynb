{
 "cells": [
  {
   "cell_type": "markdown",
   "metadata": {},
   "source": [
    "# Tight binding solution for a linear chain of atoms\n",
    "\n",
    "In this notebook, we numerically calculate the eigenstates of chain of atoms using the tight-binding method. We assume the single lowest orbital for each atom. The tight-binding Hamiltonian can be represented by a matrix with the diagonal elements $w$ and next-to-diagonal (hopping) terms $t$. The eigenvecters of this martix correspond to the on-site values of the eigenstates of the tight-binding Hamiltonian.\n",
    "\n",
    "We can also add disorder to the diagonal terms to simulate the Anderson model, which results in exponentially localized states. Philip Anderson discovered this strong localization of states in his notable 1958 paper [\"Absence of Diffusion in Certain Random Lattices\"](https://journals.aps.org/pr/abstract/10.1103/PhysRev.109.1492). This paper is one of the milestone papers in condensed matter physics, but only a few recognized its importance up to a decade after its publications. "
   ]
  },
  {
   "cell_type": "code",
   "execution_count": null,
   "metadata": {},
   "outputs": [],
   "source": [
    "# import the necessary libraries\n",
    "import numpy as np\n",
    "import matplotlib.pyplot as plt"
   ]
  },
  {
   "cell_type": "markdown",
   "metadata": {},
   "source": [
    "## Define the matrix representation in a function\n",
    "Note that you can switch between periodic and fixed boundary conditions by switching the corner elements "
   ]
  },
  {
   "cell_type": "code",
   "execution_count": null,
   "metadata": {},
   "outputs": [],
   "source": [
    "def chain_hamiltonian(n, w=-10, t=1, var=0):\n",
    "    \"\"\"\n",
    "        This function creates a random tridiagonal matrix that represents the\n",
    "        tight binding hamiltonian and calculated its eigenvectors\n",
    "        n : number of atoms\n",
    "        w : on-site energy\n",
    "        t : coupling\n",
    "        var : disorder strength\n",
    "    \"\"\"\n",
    "    mat = w * np.eye(n) + np.diag(t*np.ones(n-1), k=1) + np.diag(t*np.ones(n-1), k=-1)\n",
    "    if var != 0:\n",
    "        dis = np.random.normal(0, var, n)\n",
    "        mat = mat + np.diag(dis)\n",
    "    mat[0,n-1] = mat[n-1,0] = t #uncomment for periodic boundary conditions\n",
    "    return mat"
   ]
  },
  {
   "cell_type": "markdown",
   "metadata": {},
   "source": [
    "## Chose the number of atoms and plot the eigenstates\n",
    "You can also change the amount of disorder and the hopping term and observe what happens to the eigenstates."
   ]
  },
  {
   "cell_type": "code",
   "execution_count": null,
   "metadata": {},
   "outputs": [],
   "source": [
    "n = 80\n",
    "h = chain_hamiltonian(n, var = 0.3)\n",
    "w, v = np.linalg.eigh(h)\n",
    "\n",
    "plt.figure(figsize=(10,12))\n",
    "for i in np.arange(1,20,2):   \n",
    "    # plotting the first 10 eigenvalues (not sorted) with slight offset for clarity\n",
    "    plt.plot(np.abs(v[:,i])**2 + 2*i/n, '.-')\n",
    "                \n",
    "plt.xlabel('atom number')\n",
    "plt.ylabel('Probability density')\n",
    "plt.title('Eigenfunction')\n",
    "#plt.grid(True)\n",
    "plt.legend(prop={'size': 15})\n",
    "plt.show()"
   ]
  },
  {
   "cell_type": "markdown",
   "metadata": {},
   "source": [
    "## Plot all the eigenvectors in a colorplot (flying carpet)\n",
    "It really doesn't look that elegant, does it?"
   ]
  },
  {
   "cell_type": "code",
   "execution_count": null,
   "metadata": {},
   "outputs": [],
   "source": [
    "plt.figure(figsize=(10,10))\n",
    "plt.imshow(np.abs(v)**2)"
   ]
  },
  {
   "cell_type": "markdown",
   "metadata": {},
   "source": [
    "## Effect of disorder on the eigenvalues\n",
    "write a short code to compare the energy dispersion without and with disorder"
   ]
  },
  {
   "cell_type": "code",
   "execution_count": null,
   "metadata": {},
   "outputs": [],
   "source": [
    "# your code here"
   ]
  },
  {
   "cell_type": "markdown",
   "metadata": {},
   "source": [
    "## Summary\n",
    "We looked at the eigenstates of a linear chain of atoms using the tight-binding method. We also looked at the influence of disorder and observed the Anderson localization of eigenstates."
   ]
  },
  {
   "cell_type": "code",
   "execution_count": null,
   "metadata": {},
   "outputs": [],
   "source": []
  }
 ],
 "metadata": {
  "kernelspec": {
   "display_name": "Python 3",
   "language": "python",
   "name": "python3"
  },
  "language_info": {
   "codemirror_mode": {
    "name": "ipython",
    "version": 3
   },
   "file_extension": ".py",
   "mimetype": "text/x-python",
   "name": "python",
   "nbconvert_exporter": "python",
   "pygments_lexer": "ipython3",
   "version": "3.6.3"
  }
 },
 "nbformat": 4,
 "nbformat_minor": 2
}
